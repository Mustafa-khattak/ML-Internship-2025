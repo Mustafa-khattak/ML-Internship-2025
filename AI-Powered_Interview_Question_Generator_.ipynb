{
 "cells": [
  {
   "cell_type": "code",
   "execution_count": 3,
   "metadata": {
    "colab": {
     "base_uri": "https://localhost:8080/"
    },
    "id": "0nYLFQ1PhY3o",
    "outputId": "0a96499c-5a8c-4d73-9419-e3389ed714b5"
   },
   "outputs": [
    {
     "name": "stdout",
     "output_type": "stream",
     "text": [
      "Requirement already satisfied: transformers in /usr/local/lib/python3.12/dist-packages (4.55.2)\n",
      "Requirement already satisfied: torch in /usr/local/lib/python3.12/dist-packages (2.8.0+cu126)\n",
      "Requirement already satisfied: accelerate in /usr/local/lib/python3.12/dist-packages (1.10.0)\n",
      "Requirement already satisfied: filelock in /usr/local/lib/python3.12/dist-packages (from transformers) (3.19.1)\n",
      "Requirement already satisfied: huggingface-hub<1.0,>=0.34.0 in /usr/local/lib/python3.12/dist-packages (from transformers) (0.34.4)\n",
      "Requirement already satisfied: numpy>=1.17 in /usr/local/lib/python3.12/dist-packages (from transformers) (2.0.2)\n",
      "Requirement already satisfied: packaging>=20.0 in /usr/local/lib/python3.12/dist-packages (from transformers) (25.0)\n",
      "Requirement already satisfied: pyyaml>=5.1 in /usr/local/lib/python3.12/dist-packages (from transformers) (6.0.2)\n",
      "Requirement already satisfied: regex!=2019.12.17 in /usr/local/lib/python3.12/dist-packages (from transformers) (2024.11.6)\n",
      "Requirement already satisfied: requests in /usr/local/lib/python3.12/dist-packages (from transformers) (2.32.4)\n",
      "Requirement already satisfied: tokenizers<0.22,>=0.21 in /usr/local/lib/python3.12/dist-packages (from transformers) (0.21.4)\n",
      "Requirement already satisfied: safetensors>=0.4.3 in /usr/local/lib/python3.12/dist-packages (from transformers) (0.6.2)\n",
      "Requirement already satisfied: tqdm>=4.27 in /usr/local/lib/python3.12/dist-packages (from transformers) (4.67.1)\n",
      "Requirement already satisfied: typing-extensions>=4.10.0 in /usr/local/lib/python3.12/dist-packages (from torch) (4.14.1)\n",
      "Requirement already satisfied: setuptools in /usr/local/lib/python3.12/dist-packages (from torch) (75.2.0)\n",
      "Requirement already satisfied: sympy>=1.13.3 in /usr/local/lib/python3.12/dist-packages (from torch) (1.13.3)\n",
      "Requirement already satisfied: networkx in /usr/local/lib/python3.12/dist-packages (from torch) (3.5)\n",
      "Requirement already satisfied: jinja2 in /usr/local/lib/python3.12/dist-packages (from torch) (3.1.6)\n",
      "Requirement already satisfied: fsspec in /usr/local/lib/python3.12/dist-packages (from torch) (2025.3.0)\n",
      "Requirement already satisfied: nvidia-cuda-nvrtc-cu12==12.6.77 in /usr/local/lib/python3.12/dist-packages (from torch) (12.6.77)\n",
      "Requirement already satisfied: nvidia-cuda-runtime-cu12==12.6.77 in /usr/local/lib/python3.12/dist-packages (from torch) (12.6.77)\n",
      "Requirement already satisfied: nvidia-cuda-cupti-cu12==12.6.80 in /usr/local/lib/python3.12/dist-packages (from torch) (12.6.80)\n",
      "Requirement already satisfied: nvidia-cudnn-cu12==9.10.2.21 in /usr/local/lib/python3.12/dist-packages (from torch) (9.10.2.21)\n",
      "Requirement already satisfied: nvidia-cublas-cu12==12.6.4.1 in /usr/local/lib/python3.12/dist-packages (from torch) (12.6.4.1)\n",
      "Requirement already satisfied: nvidia-cufft-cu12==11.3.0.4 in /usr/local/lib/python3.12/dist-packages (from torch) (11.3.0.4)\n",
      "Requirement already satisfied: nvidia-curand-cu12==10.3.7.77 in /usr/local/lib/python3.12/dist-packages (from torch) (10.3.7.77)\n",
      "Requirement already satisfied: nvidia-cusolver-cu12==11.7.1.2 in /usr/local/lib/python3.12/dist-packages (from torch) (11.7.1.2)\n",
      "Requirement already satisfied: nvidia-cusparse-cu12==12.5.4.2 in /usr/local/lib/python3.12/dist-packages (from torch) (12.5.4.2)\n",
      "Requirement already satisfied: nvidia-cusparselt-cu12==0.7.1 in /usr/local/lib/python3.12/dist-packages (from torch) (0.7.1)\n",
      "Requirement already satisfied: nvidia-nccl-cu12==2.27.3 in /usr/local/lib/python3.12/dist-packages (from torch) (2.27.3)\n",
      "Requirement already satisfied: nvidia-nvtx-cu12==12.6.77 in /usr/local/lib/python3.12/dist-packages (from torch) (12.6.77)\n",
      "Requirement already satisfied: nvidia-nvjitlink-cu12==12.6.85 in /usr/local/lib/python3.12/dist-packages (from torch) (12.6.85)\n",
      "Requirement already satisfied: nvidia-cufile-cu12==1.11.1.6 in /usr/local/lib/python3.12/dist-packages (from torch) (1.11.1.6)\n",
      "Requirement already satisfied: triton==3.4.0 in /usr/local/lib/python3.12/dist-packages (from torch) (3.4.0)\n",
      "Requirement already satisfied: psutil in /usr/local/lib/python3.12/dist-packages (from accelerate) (5.9.5)\n",
      "Requirement already satisfied: hf-xet<2.0.0,>=1.1.3 in /usr/local/lib/python3.12/dist-packages (from huggingface-hub<1.0,>=0.34.0->transformers) (1.1.7)\n",
      "Requirement already satisfied: mpmath<1.4,>=1.1.0 in /usr/local/lib/python3.12/dist-packages (from sympy>=1.13.3->torch) (1.3.0)\n",
      "Requirement already satisfied: MarkupSafe>=2.0 in /usr/local/lib/python3.12/dist-packages (from jinja2->torch) (3.0.2)\n",
      "Requirement already satisfied: charset_normalizer<4,>=2 in /usr/local/lib/python3.12/dist-packages (from requests->transformers) (3.4.3)\n",
      "Requirement already satisfied: idna<4,>=2.5 in /usr/local/lib/python3.12/dist-packages (from requests->transformers) (3.10)\n",
      "Requirement already satisfied: urllib3<3,>=1.21.1 in /usr/local/lib/python3.12/dist-packages (from requests->transformers) (2.5.0)\n",
      "Requirement already satisfied: certifi>=2017.4.17 in /usr/local/lib/python3.12/dist-packages (from requests->transformers) (2025.8.3)\n"
     ]
    }
   ],
   "source": [
    "!pip install transformers torch accelerate"
   ]
  },
  {
   "cell_type": "code",
   "execution_count": 4,
   "metadata": {
    "colab": {
     "base_uri": "https://localhost:8080/",
     "height": 257,
     "referenced_widgets": [
      "0d0be020061947658be663102f83fb55",
      "6c22890d61d047de8fd3949fb5c41098",
      "d978d3626bc3446cb1641491207f486a",
      "758d365d67a44a25ae7cc420aa329db0",
      "5c363f08894f4fc481c55bf4dda5876d",
      "a91c141be12248dd9414549f89e34230",
      "ce7ac3a1772f46af831adeb6dd905ff3",
      "14207cc291084295b1c5412a2561242d",
      "b20fbdf2597e465e899f0e65faa550dc",
      "19f08024014949c4b25ff10bc6e14f43",
      "af21bcd51b06439db4bbbf4df538c936"
     ]
    },
    "id": "1f_jlLG7BWGY",
    "outputId": "8617ec1d-5628-4f6f-9bec-561745abb2d1"
   },
   "outputs": [
    {
     "data": {
      "application/vnd.jupyter.widget-view+json": {
       "model_id": "0d0be020061947658be663102f83fb55",
       "version_major": 2,
       "version_minor": 0
      },
      "text/plain": [
       "Loading checkpoint shards:   0%|          | 0/2 [00:00<?, ?it/s]"
      ]
     },
     "metadata": {},
     "output_type": "display_data"
    },
    {
     "name": "stderr",
     "output_type": "stream",
     "text": [
      "WARNING:accelerate.big_modeling:Some parameters are on the meta device because they were offloaded to the cpu and disk.\n",
      "Device set to use cuda:0\n"
     ]
    },
    {
     "name": "stdout",
     "output_type": "stream",
     "text": [
      "Enter the Intern Job Role (Software Engineer, AI Engineer, Data Analyst, Front End Developer):\n",
      "> AI Engineer\n",
      "\n",
      "Generated Technical Interview Questions:\n",
      "\n",
      "1. What is the difference between supervised and unsupervised learning?\n",
      "2. Explain the architecture of a neural network.\n",
      "3. How do you prevent overfitting in machine learning models?\n",
      "4. What is gradient descent and why is it important?\n",
      "5. Describe how transformers work in NLP.\n"
     ]
    }
   ],
   "source": [
    "from transformers import pipeline\n",
    "\n",
    "# ✅ Load Hugging Face model\n",
    "generator = pipeline(\"text-generation\", model=\"tiiuae/falcon-7b-instruct\", device_map=\"auto\")\n",
    "\n",
    "def generate_interview_questions(job_role):\n",
    "    # Predefined technical questions for each role\n",
    "    role_questions = {\n",
    "        \"software engineer\": [\n",
    "            \"Explain the concept of time complexity and give an example.\",\n",
    "            \"What are the differences between processes and threads?\",\n",
    "            \"How does garbage collection work in Java or Python?\",\n",
    "            \"Can you explain object-oriented programming principles?\",\n",
    "            \"What is the purpose of databases indexes?\"\n",
    "        ],\n",
    "        \"ai engineer\": [\n",
    "            \"What is the difference between supervised and unsupervised learning?\",\n",
    "            \"Explain the architecture of a neural network.\",\n",
    "            \"How do you prevent overfitting in machine learning models?\",\n",
    "            \"What is gradient descent and why is it important?\",\n",
    "            \"Describe how transformers work in NLP.\"\n",
    "        ],\n",
    "        \"data analyst\": [\n",
    "            \"What are the differences between OLTP and OLAP systems?\",\n",
    "            \"Explain how you would handle missing data in a dataset.\",\n",
    "            \"What is the difference between inner join and outer join in SQL?\",\n",
    "            \"How would you explain p-value to a non-technical person?\",\n",
    "            \"What visualization would you use to compare distributions of two datasets?\"\n",
    "        ],\n",
    "        \"front end developer\": [\n",
    "            \"What is the difference between React, Angular, and Vue?\",\n",
    "            \"Explain how the virtual DOM works in React.\",\n",
    "            \"What are CSS Flexbox and Grid, and when would you use them?\",\n",
    "            \"How does JavaScript handle asynchronous code?\",\n",
    "            \"Explain the concept of responsive design and how to achieve it.\"\n",
    "        ]\n",
    "    }\n",
    "\n",
    "    job_role = job_role.lower()\n",
    "    if job_role not in role_questions:\n",
    "        return [\"Invalid role. Please choose from: Software Engineer, AI Engineer, Data Analyst, Front End Developer.\"]\n",
    "\n",
    "    return role_questions[job_role]\n",
    "\n",
    "if __name__ == \"__main__\":\n",
    "    role = input(\"Enter the Intern Job Role (Software Engineer, AI Engineer, Data Analyst, Front End Developer):\\n> \")\n",
    "    questions = generate_interview_questions(role)\n",
    "\n",
    "    print(\"\\nGenerated Technical Interview Questions:\\n\")\n",
    "    for i, q in enumerate(questions, 1):\n",
    "        print(f\"{i}. {q}\")\n"
   ]
  }
 ],
 "metadata": {
  "accelerator": "GPU",
  "colab": {
   "gpuType": "T4",
   "provenance": []
  },
  "kernelspec": {
   "display_name": "Python 3",
   "name": "python3"
  },
  "language_info": {
   "name": "python"
  }
 },
 "nbformat": 4,
 "nbformat_minor": 0
}
